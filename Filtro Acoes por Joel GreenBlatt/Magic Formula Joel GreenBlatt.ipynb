{
 "cells": [
  {
   "cell_type": "markdown",
   "id": "8539b1db",
   "metadata": {},
   "source": [
    "#### Magic Formula por Joel Greenblatt\n",
    "\n",
    "O programa executa a Fórmula Magica estabelecida por Joel GreenBlatt\n",
    "\n",
    "As etapas que foram utilizadas:\n",
    "- Download dos dados das ações das empresas sem filtro prévio em formato .csv\n",
    "- Determinar o valor de liquidez média diária para iniciar os filtros\n",
    "- De forma ascendente, ordenar os dados utilizando a coluna EV/EBIT e inserir números de 1 ao número de linhas da planilha em uma coluna \"RANKING EV/EBIT\"\n",
    "- De forma descendente, ordenar os dados utilizando a coluna ROIC e inserir números, de 1 ao número de linhas da planilha em uma coluna \"RANKING ROIC\"\n",
    "- Criar uma coluna \"SOMA RANKING\" e somar as colunas \"RANKING EV/EBIT\" e \"RANKING ROIC\"\n",
    "- De forma ascendente, ordenar os dados utilizando a coluna \"SOMA RANKING\"\n",
    "- Exibir as 20 empresas dessa lista.\n",
    "- Fazer uma análise mais detalhada dessas empresas, pois pode haver divergências nos balanços"
   ]
  },
  {
   "cell_type": "code",
   "execution_count": 1,
   "id": "cbb0d81c",
   "metadata": {},
   "outputs": [
    {
     "name": "stdout",
     "output_type": "stream",
     "text": [
      "Insira o mes: 09\n"
     ]
    }
   ],
   "source": [
    "import pandas as pd\n",
    "import locale\n",
    "import os\n",
    "\n",
    "locale.setlocale(locale.LC_ALL, '')\n",
    "\n",
    "folder = os.getcwd() # Pasta de trabalho onde está salvo este Jupiter notebook\n",
    "\n",
    "# Inserindo o mês, onde:\n",
    "# Janeiro: 01, Fevereiro: 02, etc\n",
    "lista_mes = ['01','02','03','04','05','06','07','08','09','10','11','12']\n",
    "\n",
    "while True:\n",
    "    try:\n",
    "        mes = input('Insira o mes: ') \n",
    "        if (mes not in lista_mes):\n",
    "            raise ValueError('Mes invalido')\n",
    "    except ValueError:\n",
    "        print('Mês inválido')\n",
    "    else:\n",
    "        break\n",
    "        \n",
    "file = '\\\\acoes_' + mes + '.csv' # Nome do arquivo que está salvo na pasta de trabalho onde está rodando o notebook"
   ]
  },
  {
   "cell_type": "code",
   "execution_count": 2,
   "id": "b5f8f54c",
   "metadata": {},
   "outputs": [],
   "source": [
    "lista_arquivos_pasta = []\n",
    "\n",
    "for diretorio, subpastas, arquivos in os.walk(folder):\n",
    "    for arquivo in arquivos:\n",
    "        if (arquivo.endswith('.csv') & arquivo.startswith('acoes_')):\n",
    "            lista_arquivos_pasta.append(arquivo)"
   ]
  },
  {
   "cell_type": "code",
   "execution_count": 3,
   "id": "1e5b3a79",
   "metadata": {},
   "outputs": [],
   "source": [
    "# Lendo o arquivo CSV\n",
    "df_acoes = pd.read_csv(folder+file, engine = 'python', sep=';')"
   ]
  },
  {
   "cell_type": "code",
   "execution_count": 4,
   "id": "d126e594",
   "metadata": {},
   "outputs": [],
   "source": [
    "# Converte os valores que estão como string para tipo float\n",
    "def converte_formato(df, coluna):\n",
    "    df[coluna] = df[coluna].apply(lambda x:locale.atof(x.split()[-1]))\n",
    "    return df[coluna]"
   ]
  },
  {
   "cell_type": "code",
   "execution_count": 5,
   "id": "be626f3d",
   "metadata": {},
   "outputs": [],
   "source": [
    "# Convertendo as colunas EV/EBIT, ROIC, Liquidez diária e Preço para o tipo FLOAT\n",
    "df_acoes_copy = df_acoes.copy().dropna(subset=['ROIC', 'EV/EBIT','PRECO',' LIQUIDEZ MEDIA DIARIA'])\n",
    "\n",
    "df_acoes_copy['EV/EBIT'] = converte_formato(df_acoes_copy, 'EV/EBIT')\n",
    "df_acoes_copy['ROIC'] = converte_formato(df_acoes_copy, 'ROIC')\n",
    "df_acoes_copy['PRECO'] = converte_formato(df_acoes_copy, 'PRECO')\n",
    "df_acoes_copy[' LIQUIDEZ MEDIA DIARIA'] = converte_formato(df_acoes_copy, ' LIQUIDEZ MEDIA DIARIA')"
   ]
  },
  {
   "cell_type": "code",
   "execution_count": 6,
   "id": "0b715aea",
   "metadata": {},
   "outputs": [],
   "source": [
    "# Etapas:\n",
    "# 1) Pegar o nome do papel\n",
    "# 2) Identificar as empresas que tem vários tipos de papéis (Ex: TAEE4 e TAEE3)\n",
    "# 3) Comparar a liquidez diária e manter, apenas, o papel onde a liquidez diaria é a maior de todas"
   ]
  },
  {
   "cell_type": "code",
   "execution_count": 8,
   "id": "62eb1cca",
   "metadata": {},
   "outputs": [
    {
     "name": "stdout",
     "output_type": "stream",
     "text": [
      "Liquidez diaria: -1\n",
      "Valor inválido\n",
      "Liquidez diaria: afsdfasdf\n",
      "Valor inválido\n",
      "Liquidez diaria: asdfad\n",
      "Valor inválido\n",
      "Liquidez diaria: 300000\n"
     ]
    }
   ],
   "source": [
    "# Determinando a liquidez diária para o filtro\n",
    "while True:\n",
    "    try:\n",
    "        input_liq_diaria = float(input('Liquidez diaria: '))\n",
    "        if input_liq_diaria <= 0:\n",
    "            raise ValueError(\"Valor fora do range\")\n",
    "    except ValueError:\n",
    "        print('Valor inválido')\n",
    "    else:\n",
    "        break"
   ]
  },
  {
   "cell_type": "code",
   "execution_count": 10,
   "id": "41cbe254",
   "metadata": {},
   "outputs": [],
   "source": [
    "# Ordenando pela Liquidez media diária\n",
    "df_acoes_copy = df_acoes_copy.loc[(df_acoes_copy[' LIQUIDEZ MEDIA DIARIA'] >= input_liq_diaria) & \n",
    "                                  (df_acoes_copy['EV/EBIT'] > 0) & \n",
    "                                  (df_acoes_copy['ROIC'] > 0) ]\\\n",
    "                                .sort_values(by=' LIQUIDEZ MEDIA DIARIA', ascending=False)"
   ]
  },
  {
   "cell_type": "code",
   "execution_count": 11,
   "id": "9f668583",
   "metadata": {},
   "outputs": [],
   "source": [
    "# Inserindo uma coluna 'TICKER_SEM_NUM' para remover os papéis da mesma empresa.\n",
    "# Primeiro, ordenamos as coluna tomando como base a coluna ' LIQUIDEZ DIARIA MEDIA'.\n",
    "# Apagamos a coluna 'TICKER_SEM_NUM' pois não será mais utilizada\n",
    "\n",
    "df_acoes_copy['TICKER_SEM_NUM'] = df_acoes_copy['TICKER'].apply(lambda y: y[:-1])\n",
    "df_acoes_copy = df_acoes_copy.drop_duplicates(subset=['TICKER_SEM_NUM']).drop(columns='TICKER_SEM_NUM')"
   ]
  },
  {
   "cell_type": "code",
   "execution_count": 12,
   "id": "7328c321",
   "metadata": {},
   "outputs": [],
   "source": [
    "# RANKING EV/EBIT\n",
    "lista_acoes = list(range(1, len(df_acoes_copy)+1,1)) # Cria uma lista com o número de linhas do df\n",
    "\n",
    "df_acoes_copy = df_acoes_copy.sort_values(by='EV/EBIT')\n",
    "df_acoes_copy['RANKING EV/EBIT'] = lista_acoes"
   ]
  },
  {
   "cell_type": "code",
   "execution_count": 13,
   "id": "bd519c61",
   "metadata": {},
   "outputs": [],
   "source": [
    "# RANKING ROIC\n",
    "df_acoes_copy = df_acoes_copy.sort_values(by='ROIC', ascending=False)\n",
    "df_acoes_copy['RANKING ROIC'] = lista_acoes"
   ]
  },
  {
   "cell_type": "code",
   "execution_count": 14,
   "id": "50687cf5",
   "metadata": {},
   "outputs": [],
   "source": [
    "# Somando as colunas RANKING EV/EBIT e RANKING ROIC para criar o ranking das ações\n",
    "df_acoes_copy['SOMA RANKING'] = df_acoes_copy['RANKING EV/EBIT'] + df_acoes_copy['RANKING ROIC']"
   ]
  },
  {
   "cell_type": "code",
   "execution_count": 15,
   "id": "1311c6d8",
   "metadata": {},
   "outputs": [
    {
     "data": {
      "text/html": [
       "<div>\n",
       "<style scoped>\n",
       "    .dataframe tbody tr th:only-of-type {\n",
       "        vertical-align: middle;\n",
       "    }\n",
       "\n",
       "    .dataframe tbody tr th {\n",
       "        vertical-align: top;\n",
       "    }\n",
       "\n",
       "    .dataframe thead th {\n",
       "        text-align: right;\n",
       "    }\n",
       "</style>\n",
       "<table border=\"1\" class=\"dataframe\">\n",
       "  <thead>\n",
       "    <tr style=\"text-align: right;\">\n",
       "      <th></th>\n",
       "      <th>TICKER</th>\n",
       "      <th>PRECO</th>\n",
       "      <th>SOMA RANKING</th>\n",
       "    </tr>\n",
       "  </thead>\n",
       "  <tbody>\n",
       "    <tr>\n",
       "      <th>0</th>\n",
       "      <td>BRAP4</td>\n",
       "      <td>23.14</td>\n",
       "      <td>5</td>\n",
       "    </tr>\n",
       "    <tr>\n",
       "      <th>1</th>\n",
       "      <td>FHER3</td>\n",
       "      <td>16.17</td>\n",
       "      <td>7</td>\n",
       "    </tr>\n",
       "    <tr>\n",
       "      <th>2</th>\n",
       "      <td>G2DI33</td>\n",
       "      <td>3.17</td>\n",
       "      <td>7</td>\n",
       "    </tr>\n",
       "    <tr>\n",
       "      <th>3</th>\n",
       "      <td>SYNE3</td>\n",
       "      <td>4.81</td>\n",
       "      <td>11</td>\n",
       "    </tr>\n",
       "    <tr>\n",
       "      <th>4</th>\n",
       "      <td>UNIP6</td>\n",
       "      <td>90.24</td>\n",
       "      <td>17</td>\n",
       "    </tr>\n",
       "    <tr>\n",
       "      <th>5</th>\n",
       "      <td>TASA4</td>\n",
       "      <td>19.00</td>\n",
       "      <td>19</td>\n",
       "    </tr>\n",
       "    <tr>\n",
       "      <th>6</th>\n",
       "      <td>GOAU4</td>\n",
       "      <td>10.27</td>\n",
       "      <td>20</td>\n",
       "    </tr>\n",
       "    <tr>\n",
       "      <th>7</th>\n",
       "      <td>ETER3</td>\n",
       "      <td>12.67</td>\n",
       "      <td>21</td>\n",
       "    </tr>\n",
       "    <tr>\n",
       "      <th>8</th>\n",
       "      <td>GGBR4</td>\n",
       "      <td>24.63</td>\n",
       "      <td>24</td>\n",
       "    </tr>\n",
       "    <tr>\n",
       "      <th>9</th>\n",
       "      <td>CMIN3</td>\n",
       "      <td>3.96</td>\n",
       "      <td>25</td>\n",
       "    </tr>\n",
       "    <tr>\n",
       "      <th>10</th>\n",
       "      <td>PETR4</td>\n",
       "      <td>32.55</td>\n",
       "      <td>25</td>\n",
       "    </tr>\n",
       "    <tr>\n",
       "      <th>11</th>\n",
       "      <td>BRKM5</td>\n",
       "      <td>34.27</td>\n",
       "      <td>28</td>\n",
       "    </tr>\n",
       "    <tr>\n",
       "      <th>12</th>\n",
       "      <td>VALE3</td>\n",
       "      <td>68.32</td>\n",
       "      <td>29</td>\n",
       "    </tr>\n",
       "    <tr>\n",
       "      <th>13</th>\n",
       "      <td>ENAT3</td>\n",
       "      <td>16.27</td>\n",
       "      <td>30</td>\n",
       "    </tr>\n",
       "    <tr>\n",
       "      <th>14</th>\n",
       "      <td>FESA4</td>\n",
       "      <td>52.38</td>\n",
       "      <td>30</td>\n",
       "    </tr>\n",
       "    <tr>\n",
       "      <th>15</th>\n",
       "      <td>RNEW4</td>\n",
       "      <td>2.90</td>\n",
       "      <td>30</td>\n",
       "    </tr>\n",
       "    <tr>\n",
       "      <th>16</th>\n",
       "      <td>CSNA3</td>\n",
       "      <td>16.02</td>\n",
       "      <td>37</td>\n",
       "    </tr>\n",
       "    <tr>\n",
       "      <th>17</th>\n",
       "      <td>KEPL3</td>\n",
       "      <td>21.47</td>\n",
       "      <td>37</td>\n",
       "    </tr>\n",
       "    <tr>\n",
       "      <th>18</th>\n",
       "      <td>DEXP3</td>\n",
       "      <td>7.24</td>\n",
       "      <td>39</td>\n",
       "    </tr>\n",
       "    <tr>\n",
       "      <th>19</th>\n",
       "      <td>USIM5</td>\n",
       "      <td>9.25</td>\n",
       "      <td>39</td>\n",
       "    </tr>\n",
       "  </tbody>\n",
       "</table>\n",
       "</div>"
      ],
      "text/plain": [
       "    TICKER  PRECO  SOMA RANKING\n",
       "0    BRAP4  23.14             5\n",
       "1    FHER3  16.17             7\n",
       "2   G2DI33   3.17             7\n",
       "3    SYNE3   4.81            11\n",
       "4    UNIP6  90.24            17\n",
       "5    TASA4  19.00            19\n",
       "6    GOAU4  10.27            20\n",
       "7    ETER3  12.67            21\n",
       "8    GGBR4  24.63            24\n",
       "9    CMIN3   3.96            25\n",
       "10   PETR4  32.55            25\n",
       "11   BRKM5  34.27            28\n",
       "12   VALE3  68.32            29\n",
       "13   ENAT3  16.27            30\n",
       "14   FESA4  52.38            30\n",
       "15   RNEW4   2.90            30\n",
       "16   CSNA3  16.02            37\n",
       "17   KEPL3  21.47            37\n",
       "18   DEXP3   7.24            39\n",
       "19   USIM5   9.25            39"
      ]
     },
     "execution_count": 15,
     "metadata": {},
     "output_type": "execute_result"
    }
   ],
   "source": [
    "# Ordenando o df pela coluna SOMA RANKING de forma crescente\n",
    "df_acoes_copy = df_acoes_copy.sort_values(by='SOMA RANKING').reset_index()\n",
    "df_acoes_copy[['TICKER','PRECO','SOMA RANKING']].head(20) # Exibindo as 20 empresa de acordo com o ranking da FM"
   ]
  },
  {
   "cell_type": "code",
   "execution_count": 16,
   "id": "612ec5a2",
   "metadata": {},
   "outputs": [],
   "source": [
    "# Criando um arquivo Excel indicando o mês no final do arquivo\n",
    "df_acoes_copy.head(20).to_excel('Lista_AcoesFM_'+ mes + '.xlsx', columns=['TICKER', 'PRECO', 'SOMA RANKING'])"
   ]
  },
  {
   "cell_type": "code",
   "execution_count": null,
   "id": "46e4c1ea",
   "metadata": {},
   "outputs": [],
   "source": []
  }
 ],
 "metadata": {
  "kernelspec": {
   "display_name": "Python 3 (ipykernel)",
   "language": "python",
   "name": "python3"
  },
  "language_info": {
   "codemirror_mode": {
    "name": "ipython",
    "version": 3
   },
   "file_extension": ".py",
   "mimetype": "text/x-python",
   "name": "python",
   "nbconvert_exporter": "python",
   "pygments_lexer": "ipython3",
   "version": "3.9.12"
  }
 },
 "nbformat": 4,
 "nbformat_minor": 5
}
