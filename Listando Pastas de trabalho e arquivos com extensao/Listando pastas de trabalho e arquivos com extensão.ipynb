{
 "cells": [
  {
   "cell_type": "code",
   "execution_count": 24,
   "id": "2a8c5c8b",
   "metadata": {},
   "outputs": [],
   "source": [
    "# Biblioteca 'os' para ter acesso as pastas do pc\n",
    "import os\n",
    "import pandas as pd"
   ]
  },
  {
   "cell_type": "code",
   "execution_count": 32,
   "id": "4d86e7e2",
   "metadata": {},
   "outputs": [],
   "source": [
    "# Identificando a pasta onde está rodando o programa python\n",
    "folder = os.getcwd()"
   ]
  },
  {
   "cell_type": "code",
   "execution_count": 79,
   "id": "74a3e45e",
   "metadata": {},
   "outputs": [],
   "source": [
    "fileToOpen = '\\\\Players.csv'"
   ]
  },
  {
   "cell_type": "code",
   "execution_count": 78,
   "id": "dedc01f0",
   "metadata": {},
   "outputs": [],
   "source": [
    "# Concatenando a pasta com o arquivo desejado.\n",
    "# Depois, abrindo o arquivo e armazenando em openFile\n",
    "openFile = pd.read_csv(folder + fileToOpen)"
   ]
  },
  {
   "cell_type": "markdown",
   "id": "8f358f2c",
   "metadata": {},
   "source": [
    "#### Usando o comando da biblioteca \"os\"  para listar os arquivos com a extensão \".xlsx\" existentes na pasta de trabalho"
   ]
  },
  {
   "cell_type": "code",
   "execution_count": 77,
   "id": "3f3e4650",
   "metadata": {},
   "outputs": [
    {
     "name": "stdout",
     "output_type": "stream",
     "text": [
      "['teste', 'teste_1', 'teste_2']\n"
     ]
    }
   ],
   "source": [
    "# O comando os.walk(folder) retorna uma tupla com:\n",
    "#- (diretório) - O nome da pasta com o caminho completo (Ex: C:\\\\Users)\n",
    "#- (subpastas) - O nome das subpastas que estão contidas nessa pasta\n",
    "#- (arquivo) - O nome dos arquivos que estão contidos nessa pasta\n",
    "#---------------------------------------------------------------------------\n",
    "lista = [] # Criando uma lista para armazenar os arquivos desejados\n",
    "\n",
    "for diretorio, subpastas, arquivos in os.walk(folder):\n",
    "    for arquivo in arquivos:\n",
    "        if (arquivo.endswith('.xlsx')): # Listando os arquivos tipos 'xlsx' que estão na pasta\n",
    "            #print(diretorio)\n",
    "            #print(subpastas)\n",
    "            #print(arquivo)\n",
    "            lista.append(arquivo.replace('.xlsx',''))\n",
    "print(lista) # Lista dos arquivos \".xlsx\" que estão na pasta mostrados sem o índice"
   ]
  },
  {
   "cell_type": "code",
   "execution_count": null,
   "id": "293aad13",
   "metadata": {},
   "outputs": [],
   "source": []
  }
 ],
 "metadata": {
  "kernelspec": {
   "display_name": "Python 3 (ipykernel)",
   "language": "python",
   "name": "python3"
  },
  "language_info": {
   "codemirror_mode": {
    "name": "ipython",
    "version": 3
   },
   "file_extension": ".py",
   "mimetype": "text/x-python",
   "name": "python",
   "nbconvert_exporter": "python",
   "pygments_lexer": "ipython3",
   "version": "3.9.12"
  }
 },
 "nbformat": 4,
 "nbformat_minor": 5
}
